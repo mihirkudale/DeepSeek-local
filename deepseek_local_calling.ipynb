{
 "cells": [
  {
   "cell_type": "markdown",
   "id": "716ae275",
   "metadata": {},
   "source": [
    "### Call using Ollama Python module"
   ]
  },
  {
   "cell_type": "code",
   "execution_count": 2,
   "id": "b44ea4ad",
   "metadata": {
    "scrolled": false
   },
   "outputs": [
    {
     "name": "stdout",
     "output_type": "stream",
     "text": [
      "<think>\n",
      "Okay, so the user has asked me to write four lines of a poem explaining why pizza and salad don't like each other. Hmm, interesting request. Let's break this down.\n",
      "\n",
      "First, I need to think about the elements that make pizza and salad incompatible. Pizza is usually loaded with cheese, meat, and tomato sauce—it’s rich and thick. Salad, on the other hand, has crisp vegetables, maybe avocado, and dressings like ranch or balsamic—that tend to be lighter and more acidic.\n",
      "\n",
      "So the poem should contrast these flavors and textures. Maybe pizza is heavy and sturdy, while salad is light and airy. That's a good start.\n",
      "\n",
      "Next, I want each line of the poem to touch on different aspects of their incompatibility. The first line could focus on the base elements: cheese and tomato sauce versus lettuce and avocado. Then move on to how they don't mix well together.\n",
      "\n",
      "I should consider how pizza is more substantial—like a hearty meal—and salad as lighter, maybe for appetizers or snacks. Their combination doesn’t work because one is too rich, and the other is too light.\n",
      "\n",
      "Another angle could be about their textures: pizza's chewiness versus salad's crispiness. Or perhaps the way they handle each bite differently—pizza being more satisfying in a single bite, while salad might require multiple bites to enjoy fully.\n",
      "\n",
      "I should make sure each line flows well and paints a vivid picture without using too complex words. It needs to be poetic but clear about why they don't mix.\n",
      "\n",
      "Also, considering the user asked for four lines, I need to ensure each line stands out and contributes to the overall message of their incompatibility.\n",
      "\n",
      "Alright, putting it all together: start with their base ingredients, move into texture and flavor profiles, then discuss how they complement or oppose each other. That should cover why pizza and salad don't get along well.\n",
      "</think>\n",
      "\n",
      "Sure! Here's a poetic take on your request:\n",
      "\n",
      "---\n",
      "\n",
      "In flavors so opposed, where could they meet?  \n",
      "Pizza's cheese and tomato sauce entice,  \n",
      "While salad's greens and avocado shine.  \n",
      "Two worlds apart—they never seem to mesh.  \n",
      "\n",
      "--- \n",
      "\n",
      "Let me know if you'd like more!\n"
     ]
    }
   ],
   "source": [
    "from ollama import chat\n",
    "\n",
    "response = chat(model='deepseek-r1:7b', messages=[\n",
    "  {\n",
    "    'role': 'user',\n",
    "    'content': 'Write 4 line on poem on why pizza and salad do not like each other',\n",
    "  },\n",
    "])\n",
    "print(response.message.content)"
   ]
  },
  {
   "cell_type": "markdown",
   "id": "326a862b",
   "metadata": {},
   "source": [
    "### Call using langchain"
   ]
  },
  {
   "cell_type": "code",
   "execution_count": 3,
   "id": "a46dd482",
   "metadata": {},
   "outputs": [],
   "source": [
    "from langchain_ollama import ChatOllama\n",
    "\n",
    "llm = ChatOllama(\n",
    "    model=\"deepseek-r1:7b\",\n",
    "    temperature=0.7,\n",
    ")"
   ]
  },
  {
   "cell_type": "code",
   "execution_count": 4,
   "id": "8310854f",
   "metadata": {},
   "outputs": [
    {
     "data": {
      "text/plain": [
       "AIMessage(content='<think>\\nOkay, so I need to help the user by writing four-line poems about why pizza and salad don\\'t like each other. Hmm, let\\'s see. First, I should think about what makes pizza and salad incompatible.\\n\\nPizza is usually warm, circular, with cheese and sauce—those are rich, hearty flavors. On the other hand, salad is crisp, fresh, maybe with some tangy elements from dressing or herbs. The contrast between these two could be a good angle for the poem.\\n\\nI want each line to highlight different aspects of their differences. Maybe start by describing pizza first: warm, cheesy, in your mouth... Then move on to the salad\\'s crunch and freshness. \\n\\nWait, but how do I show they don\\'t like each other? Maybe through some sort of conflict or tension. Like, one is a feast, the other is light. Or perhaps their flavors clash—sweet vs. tangy.\\n\\nLet me try structuring it line by line:\\n\\nFirst line: Pizza\\'s description—warm, cheesy.\\nSecond line: Salad\\'s texture—crunchy and fresh.\\nThird line: Maybe something about conflict or not sharing.\\nFourth line: The result of their dislike—a silent debate or just not getting along.\\n\\nPutting that together... Let me see. Maybe \"Pizza is warm, cheesy, in your mouth.\" Then \"Salad is crunchy, with herbs too.\" Third line could be \"They don\\'t mix well,\" and the last one something like \"A silent debate begins.\"\\n\\nWait, I think that captures it. Each line introduces a different element of their nature and how they clash. It shows the contrast between the two foods and why they might not get along.\\n\\nI should make sure each line is vivid and paints a clear picture without being too complicated. Keeping it simple and straightforward would be best for the poem\\'s effect.\\n</think>\\n\\nPizza, warm and cheesy,  \\nIn your mouth, rich and hearty.  \\nSalad, crunchy with herbs,  \\nA burst of fresh green delight.  \\n\\nThey don\\'t mix well, you see,  \\nA silent debate begins.', additional_kwargs={}, response_metadata={'model': 'deepseek-r1:7b', 'created_at': '2025-01-31T18:45:44.4632173Z', 'done': True, 'done_reason': 'stop', 'total_duration': 74310799100, 'load_duration': 72144200, 'prompt_eval_count': 29, 'prompt_eval_duration': 2233000000, 'eval_count': 423, 'eval_duration': 71507000000, 'message': Message(role='assistant', content='', images=None, tool_calls=None)}, id='run-b2390e82-c5fb-4a21-845c-20b9b3b6185b-0', usage_metadata={'input_tokens': 29, 'output_tokens': 423, 'total_tokens': 452})"
      ]
     },
     "execution_count": 4,
     "metadata": {},
     "output_type": "execute_result"
    }
   ],
   "source": [
    "from langchain_core.messages import AIMessage\n",
    "\n",
    "messages = [\n",
    "    (\n",
    "        \"system\",\n",
    "        \"You are a helpful assistant that can write creative poems\",\n",
    "    ),\n",
    "    (\"human\", \"Write 4 line on poem on why pizza and salad do not like each other\"),\n",
    "]\n",
    "ai_msg = llm.invoke(messages)\n",
    "ai_msg"
   ]
  }
 ],
 "metadata": {
  "kernelspec": {
   "display_name": "Python 3 (ipykernel)",
   "language": "python",
   "name": "python3"
  },
  "language_info": {
   "codemirror_mode": {
    "name": "ipython",
    "version": 3
   },
   "file_extension": ".py",
   "mimetype": "text/x-python",
   "name": "python",
   "nbconvert_exporter": "python",
   "pygments_lexer": "ipython3",
   "version": "3.10.11"
  }
 },
 "nbformat": 4,
 "nbformat_minor": 5
}
